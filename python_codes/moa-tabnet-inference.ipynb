{
 "cells": [
  {
   "cell_type": "code",
   "execution_count": 1,
   "metadata": {
    "_cell_guid": "b1076dfc-b9ad-4769-8c92-a6c4dae69d19",
    "_kg_hide-output": true,
    "_uuid": "8f2839f25d086af736a60e9eeb907d3b93b6e0e5",
    "execution": {
     "iopub.execute_input": "2021-06-13T11:53:38.056461Z",
     "iopub.status.busy": "2021-06-13T11:53:38.055416Z",
     "iopub.status.idle": "2021-06-13T11:53:46.498485Z",
     "shell.execute_reply": "2021-06-13T11:53:46.497837Z",
     "shell.execute_reply.started": "2021-06-13T11:50:43.097884Z"
    },
    "papermill": {
     "duration": 8.477883,
     "end_time": "2021-06-13T11:53:46.498615",
     "exception": false,
     "start_time": "2021-06-13T11:53:38.020732",
     "status": "completed"
    },
    "tags": []
   },
   "outputs": [
    {
     "name": "stdout",
     "output_type": "stream",
     "text": [
      "Looking in links: /kaggle/input/pytorchtabnet/pytorch_tabnet-2.0.0-py3-none-any.whl\r\n",
      "Processing /kaggle/input/pytorchtabnet/pytorch_tabnet-2.0.0-py3-none-any.whl\r\n",
      "Requirement already satisfied: torch<2.0,>=1.2 in /opt/conda/lib/python3.7/site-packages (from pytorch-tabnet) (1.6.0)\r\n",
      "Requirement already satisfied: scikit_learn>0.21 in /opt/conda/lib/python3.7/site-packages (from pytorch-tabnet) (0.23.2)\r\n",
      "Requirement already satisfied: scipy>1.4 in /opt/conda/lib/python3.7/site-packages (from pytorch-tabnet) (1.4.1)\r\n",
      "Requirement already satisfied: numpy<2.0,>=1.17 in /opt/conda/lib/python3.7/site-packages (from pytorch-tabnet) (1.18.5)\r\n",
      "Requirement already satisfied: tqdm<5.0,>=4.36 in /opt/conda/lib/python3.7/site-packages (from pytorch-tabnet) (4.45.0)\r\n",
      "Requirement already satisfied: future in /opt/conda/lib/python3.7/site-packages (from torch<2.0,>=1.2->pytorch-tabnet) (0.18.2)\r\n",
      "Requirement already satisfied: joblib>=0.11 in /opt/conda/lib/python3.7/site-packages (from scikit_learn>0.21->pytorch-tabnet) (0.14.1)\r\n",
      "Requirement already satisfied: threadpoolctl>=2.0.0 in /opt/conda/lib/python3.7/site-packages (from scikit_learn>0.21->pytorch-tabnet) (2.1.0)\r\n",
      "Installing collected packages: pytorch-tabnet\r\n",
      "Successfully installed pytorch-tabnet-2.0.0\r\n"
     ]
    }
   ],
   "source": [
    "# TabNet\n",
    "!pip install --no-index --find-links /kaggle/input/pytorchtabnet/pytorch_tabnet-2.0.0-py3-none-any.whl pytorch-tabnet"
   ]
  },
  {
   "cell_type": "code",
   "execution_count": 2,
   "metadata": {
    "execution": {
     "iopub.execute_input": "2021-06-13T11:53:46.564454Z",
     "iopub.status.busy": "2021-06-13T11:53:46.563523Z",
     "iopub.status.idle": "2021-06-13T11:53:47.588995Z",
     "shell.execute_reply": "2021-06-13T11:53:47.588344Z",
     "shell.execute_reply.started": "2021-06-13T11:50:49.920822Z"
    },
    "papermill": {
     "duration": 1.060339,
     "end_time": "2021-06-13T11:53:47.589112",
     "exception": false,
     "start_time": "2021-06-13T11:53:46.528773",
     "status": "completed"
    },
    "tags": []
   },
   "outputs": [],
   "source": [
    "import sys\n",
    "sys.path.append('../input/iterativestratification')\n",
    "from iterstrat.ml_stratifiers import MultilabelStratifiedKFold"
   ]
  },
  {
   "cell_type": "code",
   "execution_count": 3,
   "metadata": {
    "_cell_guid": "79c7e3d0-c299-4dcb-8224-4455121ee9b0",
    "_uuid": "d629ff2d2480ee46fbb7e2d37f6b5fab8052498a",
    "execution": {
     "iopub.execute_input": "2021-06-13T11:53:47.662791Z",
     "iopub.status.busy": "2021-06-13T11:53:47.662078Z",
     "iopub.status.idle": "2021-06-13T11:53:48.769475Z",
     "shell.execute_reply": "2021-06-13T11:53:48.768818Z",
     "shell.execute_reply.started": "2021-06-13T11:50:49.927706Z"
    },
    "papermill": {
     "duration": 1.1503,
     "end_time": "2021-06-13T11:53:48.769601",
     "exception": false,
     "start_time": "2021-06-13T11:53:47.619301",
     "status": "completed"
    },
    "tags": []
   },
   "outputs": [],
   "source": [
    "### General ###\n",
    "import os\n",
    "import copy\n",
    "import tqdm\n",
    "import pickle\n",
    "import random\n",
    "import warnings\n",
    "warnings.filterwarnings(\"ignore\")\n",
    "sys.path.append(\"../input/rank-gauss\")\n",
    "os.environ[\"CUDA_LAUNCH_BLOCKING\"] = '1'\n",
    "\n",
    "### Data Wrangling ###\n",
    "import numpy as np\n",
    "import pandas as pd\n",
    "from scipy import stats\n",
    "\n",
    "### Machine Learning ###\n",
    "from sklearn import preprocessing\n",
    "from sklearn.metrics import roc_auc_score, log_loss\n",
    "from sklearn.preprocessing import StandardScaler\n",
    "from sklearn.decomposition import PCA\n",
    "\n",
    "from pickle import load,dump\n",
    "\n",
    "### Deep Learning ###\n",
    "import torch\n",
    "from torch import nn\n",
    "import torch.optim as optim\n",
    "from torch.nn import functional as F\n",
    "from torch.nn.modules.loss import _WeightedLoss\n",
    "from torch.utils.data import DataLoader, Dataset\n",
    "from torch.optim.lr_scheduler import ReduceLROnPlateau\n",
    "# Tabnet \n",
    "from pytorch_tabnet.metrics import Metric\n",
    "from pytorch_tabnet.tab_model import TabNetRegressor\n",
    "\n",
    "### Make prettier the prints ###\n",
    "from colorama import Fore\n",
    "c_ = Fore.CYAN\n",
    "m_ = Fore.MAGENTA\n",
    "r_ = Fore.RED\n",
    "b_ = Fore.BLUE\n",
    "y_ = Fore.YELLOW\n",
    "g_ = Fore.GREEN"
   ]
  },
  {
   "cell_type": "code",
   "execution_count": 4,
   "metadata": {
    "execution": {
     "iopub.execute_input": "2021-06-13T11:53:48.834607Z",
     "iopub.status.busy": "2021-06-13T11:53:48.833616Z",
     "iopub.status.idle": "2021-06-13T11:53:48.836051Z",
     "shell.execute_reply": "2021-06-13T11:53:48.836578Z",
     "shell.execute_reply.started": "2021-06-13T11:50:49.946455Z"
    },
    "papermill": {
     "duration": 0.037577,
     "end_time": "2021-06-13T11:53:48.836720",
     "exception": false,
     "start_time": "2021-06-13T11:53:48.799143",
     "status": "completed"
    },
    "tags": []
   },
   "outputs": [],
   "source": [
    "from sklearn.preprocessing import QuantileTransformer"
   ]
  },
  {
   "cell_type": "code",
   "execution_count": 5,
   "metadata": {
    "execution": {
     "iopub.execute_input": "2021-06-13T11:53:48.901781Z",
     "iopub.status.busy": "2021-06-13T11:53:48.900586Z",
     "iopub.status.idle": "2021-06-13T11:53:48.909584Z",
     "shell.execute_reply": "2021-06-13T11:53:48.910155Z",
     "shell.execute_reply.started": "2021-06-13T11:50:49.958325Z"
    },
    "papermill": {
     "duration": 0.043477,
     "end_time": "2021-06-13T11:53:48.910333",
     "exception": false,
     "start_time": "2021-06-13T11:53:48.866856",
     "status": "completed"
    },
    "tags": []
   },
   "outputs": [
    {
     "data": {
      "text/plain": [
       "['train_targets_scored.csv',\n",
       " 'sample_submission.csv',\n",
       " 'train_drug.csv',\n",
       " 'train_targets_nonscored.csv',\n",
       " 'train_features.csv',\n",
       " 'test_features.csv']"
      ]
     },
     "execution_count": 5,
     "metadata": {},
     "output_type": "execute_result"
    }
   ],
   "source": [
    "os.listdir('../input/lish-moa')"
   ]
  },
  {
   "cell_type": "code",
   "execution_count": 6,
   "metadata": {
    "execution": {
     "iopub.execute_input": "2021-06-13T11:53:48.974864Z",
     "iopub.status.busy": "2021-06-13T11:53:48.973878Z",
     "iopub.status.idle": "2021-06-13T11:53:57.138289Z",
     "shell.execute_reply": "2021-06-13T11:53:57.137540Z",
     "shell.execute_reply.started": "2021-06-13T11:50:49.972082Z"
    },
    "papermill": {
     "duration": 8.197872,
     "end_time": "2021-06-13T11:53:57.138419",
     "exception": false,
     "start_time": "2021-06-13T11:53:48.940547",
     "status": "completed"
    },
    "tags": []
   },
   "outputs": [],
   "source": [
    "train_features = pd.read_csv('../input/lish-moa/train_features.csv')\n",
    "train_targets_scored = pd.read_csv('../input/lish-moa/train_targets_scored.csv')\n",
    "train_targets_nonscored = pd.read_csv('../input/lish-moa/train_targets_nonscored.csv')\n",
    "\n",
    "test_features = pd.read_csv('../input/lish-moa/test_features.csv')\n",
    "df = pd.read_csv('../input/lish-moa/sample_submission.csv')"
   ]
  },
  {
   "cell_type": "code",
   "execution_count": 7,
   "metadata": {
    "execution": {
     "iopub.execute_input": "2021-06-13T11:53:57.205668Z",
     "iopub.status.busy": "2021-06-13T11:53:57.204972Z",
     "iopub.status.idle": "2021-06-13T11:53:57.291197Z",
     "shell.execute_reply": "2021-06-13T11:53:57.290615Z",
     "shell.execute_reply.started": "2021-06-13T11:50:55.413609Z"
    },
    "papermill": {
     "duration": 0.122157,
     "end_time": "2021-06-13T11:53:57.291352",
     "exception": false,
     "start_time": "2021-06-13T11:53:57.169195",
     "status": "completed"
    },
    "tags": []
   },
   "outputs": [],
   "source": [
    "train_features2=train_features.copy()\n",
    "test_features2=test_features.copy()"
   ]
  },
  {
   "cell_type": "code",
   "execution_count": 8,
   "metadata": {
    "execution": {
     "iopub.execute_input": "2021-06-13T11:53:57.358787Z",
     "iopub.status.busy": "2021-06-13T11:53:57.357856Z",
     "iopub.status.idle": "2021-06-13T11:53:57.360526Z",
     "shell.execute_reply": "2021-06-13T11:53:57.361032Z",
     "shell.execute_reply.started": "2021-06-13T11:50:55.494220Z"
    },
    "papermill": {
     "duration": 0.039869,
     "end_time": "2021-06-13T11:53:57.361159",
     "exception": false,
     "start_time": "2021-06-13T11:53:57.321290",
     "status": "completed"
    },
    "tags": []
   },
   "outputs": [],
   "source": [
    "GENES = [col for col in train_features.columns if col.startswith('g-')]\n",
    "CELLS = [col for col in train_features.columns if col.startswith('c-')]"
   ]
  },
  {
   "cell_type": "code",
   "execution_count": 9,
   "metadata": {
    "execution": {
     "iopub.execute_input": "2021-06-13T11:53:57.433406Z",
     "iopub.status.busy": "2021-06-13T11:53:57.432795Z",
     "iopub.status.idle": "2021-06-13T11:54:12.773511Z",
     "shell.execute_reply": "2021-06-13T11:54:12.773983Z",
     "shell.execute_reply.started": "2021-06-13T11:50:55.501889Z"
    },
    "papermill": {
     "duration": 15.383194,
     "end_time": "2021-06-13T11:54:12.774166",
     "exception": false,
     "start_time": "2021-06-13T11:53:57.390972",
     "status": "completed"
    },
    "tags": []
   },
   "outputs": [],
   "source": [
    "qt = QuantileTransformer(n_quantiles=100,random_state=42,output_distribution='normal')\n",
    "train_features[GENES+CELLS] = qt.fit_transform(train_features[GENES+CELLS])\n",
    "test_features[GENES+CELLS] = qt.transform(test_features[GENES+CELLS])"
   ]
  },
  {
   "cell_type": "code",
   "execution_count": 10,
   "metadata": {
    "execution": {
     "iopub.execute_input": "2021-06-13T11:54:12.836537Z",
     "iopub.status.busy": "2021-06-13T11:54:12.835934Z",
     "iopub.status.idle": "2021-06-13T11:54:12.846994Z",
     "shell.execute_reply": "2021-06-13T11:54:12.846476Z",
     "shell.execute_reply.started": "2021-06-13T11:51:11.060734Z"
    },
    "papermill": {
     "duration": 0.043249,
     "end_time": "2021-06-13T11:54:12.847095",
     "exception": false,
     "start_time": "2021-06-13T11:54:12.803846",
     "status": "completed"
    },
    "tags": []
   },
   "outputs": [],
   "source": [
    "seed = 42\n",
    "\n",
    "def set_seed(seed):\n",
    "    random.seed(seed)\n",
    "    np.random.seed(seed)\n",
    "    torch.manual_seed(seed)\n",
    "    os.environ[\"PYTHONHASHSEED\"] = str(seed)\n",
    "    \n",
    "    if torch.cuda.is_available():\n",
    "        torch.cuda.manual_seed(seed)\n",
    "        torch.cuda.manual_seed_all(seed)\n",
    "        torch.backends.cudnn.deterministic = True\n",
    "        torch.backends.cudnn.benchmark = False\n",
    "set_seed(seed)"
   ]
  },
  {
   "cell_type": "code",
   "execution_count": 11,
   "metadata": {
    "execution": {
     "iopub.execute_input": "2021-06-13T11:54:12.914280Z",
     "iopub.status.busy": "2021-06-13T11:54:12.913635Z",
     "iopub.status.idle": "2021-06-13T11:54:13.706637Z",
     "shell.execute_reply": "2021-06-13T11:54:13.707149Z",
     "shell.execute_reply.started": "2021-06-13T11:51:11.073793Z"
    },
    "papermill": {
     "duration": 0.830665,
     "end_time": "2021-06-13T11:54:13.707304",
     "exception": false,
     "start_time": "2021-06-13T11:54:12.876639",
     "status": "completed"
    },
    "tags": []
   },
   "outputs": [],
   "source": [
    "# GENES\n",
    "n_comp = 600  #<--Update\n",
    "gpca= load(open('../input/moa-tabnet-correct/gpca.pkl', 'rb'))\n",
    "train2= (gpca.transform(train_features[GENES]))\n",
    "test2 = (gpca.transform(test_features[GENES]))\n",
    "\n",
    "train_gpca = pd.DataFrame(train2, columns=[f'pca_G-{i}' for i in range(n_comp)])\n",
    "test_gpca = pd.DataFrame(test2, columns=[f'pca_G-{i}' for i in range(n_comp)])\n",
    "\n",
    "# drop_cols = [f'c-{i}' for i in range(n_comp,len(GENES))]\n",
    "train_features = pd.concat((train_features, train_gpca), axis=1)\n",
    "test_features = pd.concat((test_features, test_gpca), axis=1)"
   ]
  },
  {
   "cell_type": "code",
   "execution_count": 12,
   "metadata": {
    "execution": {
     "iopub.execute_input": "2021-06-13T11:54:13.776294Z",
     "iopub.status.busy": "2021-06-13T11:54:13.775564Z",
     "iopub.status.idle": "2021-06-13T11:54:14.166241Z",
     "shell.execute_reply": "2021-06-13T11:54:14.166790Z",
     "shell.execute_reply.started": "2021-06-13T11:51:11.857487Z"
    },
    "papermill": {
     "duration": 0.428969,
     "end_time": "2021-06-13T11:54:14.166930",
     "exception": false,
     "start_time": "2021-06-13T11:54:13.737961",
     "status": "completed"
    },
    "tags": []
   },
   "outputs": [],
   "source": [
    "#CELLS\n",
    "n_comp = 50  #<--Update\n",
    "\n",
    "cpca= load(open('../input/moa-tabnet-correct/cpca.pkl', 'rb'))\n",
    "train2= (cpca.transform(train_features[CELLS]))\n",
    "test2 = (cpca.transform(test_features[CELLS]))\n",
    "\n",
    "train_cpca = pd.DataFrame(train2, columns=[f'pca_C-{i}' for i in range(n_comp)])\n",
    "test_cpca = pd.DataFrame(test2, columns=[f'pca_C-{i}' for i in range(n_comp)])\n",
    "\n",
    "# drop_cols = [f'c-{i}' for i in range(n_comp,len(CELLS))]\n",
    "train_features = pd.concat((train_features, train_cpca), axis=1)\n",
    "test_features = pd.concat((test_features, test_cpca), axis=1)"
   ]
  },
  {
   "cell_type": "code",
   "execution_count": 13,
   "metadata": {
    "execution": {
     "iopub.execute_input": "2021-06-13T11:54:14.235631Z",
     "iopub.status.busy": "2021-06-13T11:54:14.234965Z",
     "iopub.status.idle": "2021-06-13T11:54:15.007273Z",
     "shell.execute_reply": "2021-06-13T11:54:15.006125Z",
     "shell.execute_reply.started": "2021-06-13T11:51:12.260596Z"
    },
    "papermill": {
     "duration": 0.810325,
     "end_time": "2021-06-13T11:54:15.007416",
     "exception": false,
     "start_time": "2021-06-13T11:54:14.197091",
     "status": "completed"
    },
    "tags": []
   },
   "outputs": [],
   "source": [
    "from sklearn.feature_selection import VarianceThreshold\n",
    "\n",
    "c_n = [f for f in list(train_features.columns) if f not in ['sig_id', 'cp_type', 'cp_time', 'cp_dose']]\n",
    "mask = (train_features[c_n].var() >= 0.85).values\n",
    "tmp = train_features[c_n].loc[:, mask]\n",
    "train_features = pd.concat([train_features[['sig_id', 'cp_type', 'cp_time', 'cp_dose']], tmp], axis=1)\n",
    "tmp = test_features[c_n].loc[:, mask]\n",
    "test_features = pd.concat([test_features[['sig_id', 'cp_type', 'cp_time', 'cp_dose']], tmp], axis=1)"
   ]
  },
  {
   "cell_type": "code",
   "execution_count": 14,
   "metadata": {
    "execution": {
     "iopub.execute_input": "2021-06-13T11:54:15.079461Z",
     "iopub.status.busy": "2021-06-13T11:54:15.078664Z",
     "iopub.status.idle": "2021-06-13T11:54:15.640170Z",
     "shell.execute_reply": "2021-06-13T11:54:15.640742Z",
     "shell.execute_reply.started": "2021-06-13T11:51:12.971521Z"
    },
    "papermill": {
     "duration": 0.603198,
     "end_time": "2021-06-13T11:54:15.640885",
     "exception": false,
     "start_time": "2021-06-13T11:54:15.037687",
     "status": "completed"
    },
    "tags": []
   },
   "outputs": [],
   "source": [
    "from sklearn.cluster import KMeans\n",
    "def fe_cluster_genes(train, test, n_clusters_g = 22, SEED = 42):\n",
    "    \n",
    "    features_g = GENES\n",
    "    #features_c = CELLS\n",
    "    \n",
    "    def create_cluster(train, test, features, kind = 'g', n_clusters = n_clusters_g):\n",
    "        train_ = train[features].copy()\n",
    "        test_ = test[features].copy()\n",
    "        kmeans_genes = load(open('../input/moa-tabnet-correct/kmeans_genes.pkl', 'rb'))\n",
    "        train[f'clusters_{kind}'] = kmeans_genes.predict(train_.values)\n",
    "        test[f'clusters_{kind}'] = kmeans_genes.predict(test_.values)\n",
    "        train = pd.get_dummies(train, columns = [f'clusters_{kind}'])\n",
    "        test = pd.get_dummies(test, columns = [f'clusters_{kind}'])\n",
    "        return train, test\n",
    "    \n",
    "    train, test = create_cluster(train, test, features_g, kind = 'g', n_clusters = n_clusters_g)\n",
    "   # train, test = create_cluster(train, test, features_c, kind = 'c', n_clusters = n_clusters_c)\n",
    "    return train, test\n",
    "\n",
    "train_features2 ,test_features2=fe_cluster_genes(train_features2,test_features2)"
   ]
  },
  {
   "cell_type": "code",
   "execution_count": 15,
   "metadata": {
    "execution": {
     "iopub.execute_input": "2021-06-13T11:54:15.710324Z",
     "iopub.status.busy": "2021-06-13T11:54:15.709602Z",
     "iopub.status.idle": "2021-06-13T11:54:15.898864Z",
     "shell.execute_reply": "2021-06-13T11:54:15.899474Z",
     "shell.execute_reply.started": "2021-06-13T11:51:13.404877Z"
    },
    "papermill": {
     "duration": 0.228634,
     "end_time": "2021-06-13T11:54:15.899667",
     "exception": false,
     "start_time": "2021-06-13T11:54:15.671033",
     "status": "completed"
    },
    "tags": []
   },
   "outputs": [],
   "source": [
    "def fe_cluster_cells(train, test, n_clusters_c = 4, SEED = 42):\n",
    "    \n",
    "    #features_g = GENES\n",
    "    features_c = CELLS\n",
    "    \n",
    "    def create_cluster(train, test, features, kind = 'c', n_clusters = n_clusters_c):\n",
    "        train_ = train[features].copy()\n",
    "        test_ = test[features].copy()\n",
    "        kmeans_cells = load(open('../input/moa-tabnet-correct/kmeans_cells.pkl', 'rb'))\n",
    "        train[f'clusters_{kind}'] = kmeans_cells.predict(train_.values)\n",
    "        test[f'clusters_{kind}'] = kmeans_cells.predict(test_.values)\n",
    "        train = pd.get_dummies(train, columns = [f'clusters_{kind}'])\n",
    "        test = pd.get_dummies(test, columns = [f'clusters_{kind}'])\n",
    "        return train, test\n",
    "    \n",
    "   # train, test = create_cluster(train, test, features_g, kind = 'g', n_clusters = n_clusters_g)\n",
    "    train, test = create_cluster(train, test, features_c, kind = 'c', n_clusters = n_clusters_c)\n",
    "    return train, test\n",
    "\n",
    "train_features2 ,test_features2=fe_cluster_cells(train_features2,test_features2)"
   ]
  },
  {
   "cell_type": "code",
   "execution_count": 16,
   "metadata": {
    "execution": {
     "iopub.execute_input": "2021-06-13T11:54:15.969125Z",
     "iopub.status.busy": "2021-06-13T11:54:15.967921Z",
     "iopub.status.idle": "2021-06-13T11:54:16.067978Z",
     "shell.execute_reply": "2021-06-13T11:54:16.067455Z",
     "shell.execute_reply.started": "2021-06-13T11:51:13.590974Z"
    },
    "papermill": {
     "duration": 0.135364,
     "end_time": "2021-06-13T11:54:16.068093",
     "exception": false,
     "start_time": "2021-06-13T11:54:15.932729",
     "status": "completed"
    },
    "tags": []
   },
   "outputs": [],
   "source": [
    "train_pca=pd.concat((train_gpca,train_cpca),axis=1)\n",
    "test_pca=pd.concat((test_gpca,test_cpca),axis=1)"
   ]
  },
  {
   "cell_type": "code",
   "execution_count": 17,
   "metadata": {
    "execution": {
     "iopub.execute_input": "2021-06-13T11:54:16.136302Z",
     "iopub.status.busy": "2021-06-13T11:54:16.135655Z",
     "iopub.status.idle": "2021-06-13T11:54:16.454841Z",
     "shell.execute_reply": "2021-06-13T11:54:16.455341Z",
     "shell.execute_reply.started": "2021-06-13T11:51:13.716847Z"
    },
    "papermill": {
     "duration": 0.357036,
     "end_time": "2021-06-13T11:54:16.455497",
     "exception": false,
     "start_time": "2021-06-13T11:54:16.098461",
     "status": "completed"
    },
    "tags": []
   },
   "outputs": [],
   "source": [
    "def fe_cluster_pca(train, test,n_clusters=5,SEED = 42):\n",
    "        kmeans_pca = load(open('../input/moa-tabnet-correct/kmeans_pca.pkl', 'rb'))\n",
    "        train[f'clusters_pca'] = kmeans_pca.predict(train.values)\n",
    "        test[f'clusters_pca'] = kmeans_pca.predict(test.values)\n",
    "        train = pd.get_dummies(train, columns = [f'clusters_pca'])\n",
    "        test = pd.get_dummies(test, columns = [f'clusters_pca'])\n",
    "        return train, test\n",
    "train_cluster_pca ,test_cluster_pca = fe_cluster_pca(train_pca,test_pca)"
   ]
  },
  {
   "cell_type": "code",
   "execution_count": 18,
   "metadata": {
    "execution": {
     "iopub.execute_input": "2021-06-13T11:54:16.521589Z",
     "iopub.status.busy": "2021-06-13T11:54:16.520576Z",
     "iopub.status.idle": "2021-06-13T11:54:16.524956Z",
     "shell.execute_reply": "2021-06-13T11:54:16.525553Z",
     "shell.execute_reply.started": "2021-06-13T11:51:14.047147Z"
    },
    "papermill": {
     "duration": 0.039966,
     "end_time": "2021-06-13T11:54:16.525697",
     "exception": false,
     "start_time": "2021-06-13T11:54:16.485731",
     "status": "completed"
    },
    "tags": []
   },
   "outputs": [],
   "source": [
    "train_cluster_pca = train_cluster_pca.iloc[:,650:]\n",
    "test_cluster_pca = test_cluster_pca.iloc[:,650:]"
   ]
  },
  {
   "cell_type": "code",
   "execution_count": 19,
   "metadata": {
    "execution": {
     "iopub.execute_input": "2021-06-13T11:54:16.589368Z",
     "iopub.status.busy": "2021-06-13T11:54:16.588382Z",
     "iopub.status.idle": "2021-06-13T11:54:16.594145Z",
     "shell.execute_reply": "2021-06-13T11:54:16.594715Z",
     "shell.execute_reply.started": "2021-06-13T11:51:14.055774Z"
    },
    "papermill": {
     "duration": 0.039136,
     "end_time": "2021-06-13T11:54:16.594852",
     "exception": false,
     "start_time": "2021-06-13T11:54:16.555716",
     "status": "completed"
    },
    "tags": []
   },
   "outputs": [],
   "source": [
    "train_features_cluster=train_features2.iloc[:,876:]\n",
    "test_features_cluster=test_features2.iloc[:,876:]"
   ]
  },
  {
   "cell_type": "code",
   "execution_count": 20,
   "metadata": {
    "execution": {
     "iopub.execute_input": "2021-06-13T11:54:16.658781Z",
     "iopub.status.busy": "2021-06-13T11:54:16.657852Z",
     "iopub.status.idle": "2021-06-13T11:54:16.664342Z",
     "shell.execute_reply": "2021-06-13T11:54:16.664873Z",
     "shell.execute_reply.started": "2021-06-13T11:51:14.069894Z"
    },
    "papermill": {
     "duration": 0.040066,
     "end_time": "2021-06-13T11:54:16.664999",
     "exception": false,
     "start_time": "2021-06-13T11:54:16.624933",
     "status": "completed"
    },
    "tags": []
   },
   "outputs": [],
   "source": [
    "\n",
    "gsquarecols=['g-574','g-211','g-216','g-0','g-255','g-577','g-153','g-389','g-60','g-370','g-248','g-167','g-203','g-177','g-301','g-332','g-517','g-6','g-744','g-224','g-162','g-3','g-736','g-486','g-283','g-22','g-359','g-361','g-440','g-335','g-106','g-307','g-745','g-146','g-416','g-298','g-666','g-91','g-17','g-549','g-145','g-157','g-768','g-568','g-396']"
   ]
  },
  {
   "cell_type": "code",
   "execution_count": 21,
   "metadata": {
    "execution": {
     "iopub.execute_input": "2021-06-13T11:54:16.728175Z",
     "iopub.status.busy": "2021-06-13T11:54:16.727257Z",
     "iopub.status.idle": "2021-06-13T11:54:22.499322Z",
     "shell.execute_reply": "2021-06-13T11:54:22.498247Z",
     "shell.execute_reply.started": "2021-06-13T11:51:14.083030Z"
    },
    "papermill": {
     "duration": 5.804893,
     "end_time": "2021-06-13T11:54:22.499466",
     "exception": false,
     "start_time": "2021-06-13T11:54:16.694573",
     "status": "completed"
    },
    "tags": []
   },
   "outputs": [],
   "source": [
    "def fe_stats(train, test):\n",
    "    \n",
    "    features_g = GENES\n",
    "    features_c = CELLS\n",
    "    \n",
    "    for df in train, test:\n",
    "        df['g_sum'] = df[features_g].sum(axis = 1)\n",
    "        df['g_mean'] = df[features_g].mean(axis = 1)\n",
    "        df['g_std'] = df[features_g].std(axis = 1)\n",
    "        df['g_kurt'] = df[features_g].kurtosis(axis = 1)\n",
    "        df['g_skew'] = df[features_g].skew(axis = 1)\n",
    "        df['c_sum'] = df[features_c].sum(axis = 1)\n",
    "        df['c_mean'] = df[features_c].mean(axis = 1)\n",
    "        df['c_std'] = df[features_c].std(axis = 1)\n",
    "        df['c_kurt'] = df[features_c].kurtosis(axis = 1)\n",
    "        df['c_skew'] = df[features_c].skew(axis = 1)\n",
    "        df['gc_sum'] = df[features_g + features_c].sum(axis = 1)\n",
    "        df['gc_mean'] = df[features_g + features_c].mean(axis = 1)\n",
    "        df['gc_std'] = df[features_g + features_c].std(axis = 1)\n",
    "        df['gc_kurt'] = df[features_g + features_c].kurtosis(axis = 1)\n",
    "        df['gc_skew'] = df[features_g + features_c].skew(axis = 1)\n",
    "        \n",
    "        df['c52_c42'] = df['c-52'] * df['c-42']\n",
    "        df['c13_c73'] = df['c-13'] * df['c-73']\n",
    "        df['c26_c13'] = df['c-23'] * df['c-13']\n",
    "        df['c33_c6'] = df['c-33'] * df['c-6']\n",
    "        df['c11_c55'] = df['c-11'] * df['c-55']\n",
    "        df['c38_c63'] = df['c-38'] * df['c-63']\n",
    "        df['c38_c94'] = df['c-38'] * df['c-94']\n",
    "        df['c13_c94'] = df['c-13'] * df['c-94']\n",
    "        df['c4_c52'] = df['c-4'] * df['c-52']\n",
    "        df['c4_c42'] = df['c-4'] * df['c-42']\n",
    "        df['c13_c38'] = df['c-13'] * df['c-38']\n",
    "        df['c55_c2'] = df['c-55'] * df['c-2']\n",
    "        df['c55_c4'] = df['c-55'] * df['c-4']\n",
    "        df['c4_c13'] = df['c-4'] * df['c-13']\n",
    "        df['c82_c42'] = df['c-82'] * df['c-42']\n",
    "        df['c66_c42'] = df['c-66'] * df['c-42']\n",
    "        df['c6_c38'] = df['c-6'] * df['c-38']\n",
    "        df['c2_c13'] = df['c-2'] * df['c-13']\n",
    "        df['c62_c42'] = df['c-62'] * df['c-42']\n",
    "        df['c90_c55'] = df['c-90'] * df['c-55']\n",
    "        \n",
    "        \n",
    "        for feature in features_c:\n",
    "             df[f'{feature}_squared'] = df[feature] ** 2     \n",
    "                \n",
    "        for feature in gsquarecols:\n",
    "            df[f'{feature}_squared'] = df[feature] ** 2        \n",
    "        \n",
    "    return train, test\n",
    "\n",
    "train_features2,test_features2=fe_stats(train_features2,test_features2)"
   ]
  },
  {
   "cell_type": "code",
   "execution_count": 22,
   "metadata": {
    "execution": {
     "iopub.execute_input": "2021-06-13T11:54:22.585338Z",
     "iopub.status.busy": "2021-06-13T11:54:22.584686Z",
     "iopub.status.idle": "2021-06-13T11:54:22.587807Z",
     "shell.execute_reply": "2021-06-13T11:54:22.587266Z",
     "shell.execute_reply.started": "2021-06-13T11:51:19.763105Z"
    },
    "papermill": {
     "duration": 0.058928,
     "end_time": "2021-06-13T11:54:22.587920",
     "exception": false,
     "start_time": "2021-06-13T11:54:22.528992",
     "status": "completed"
    },
    "tags": []
   },
   "outputs": [],
   "source": [
    "train_features_stats=train_features2.iloc[:,902:]\n",
    "test_features_stats=test_features2.iloc[:,902:]"
   ]
  },
  {
   "cell_type": "code",
   "execution_count": 23,
   "metadata": {
    "execution": {
     "iopub.execute_input": "2021-06-13T11:54:22.654249Z",
     "iopub.status.busy": "2021-06-13T11:54:22.653063Z",
     "iopub.status.idle": "2021-06-13T11:54:22.793056Z",
     "shell.execute_reply": "2021-06-13T11:54:22.792530Z",
     "shell.execute_reply.started": "2021-06-13T11:51:19.789931Z"
    },
    "papermill": {
     "duration": 0.175417,
     "end_time": "2021-06-13T11:54:22.793172",
     "exception": false,
     "start_time": "2021-06-13T11:54:22.617755",
     "status": "completed"
    },
    "tags": []
   },
   "outputs": [],
   "source": [
    "train_features = pd.concat((train_features, train_features_cluster,train_cluster_pca,train_features_stats), axis=1)\n",
    "test_features = pd.concat((test_features, test_features_cluster,test_cluster_pca,test_features_stats), axis=1)"
   ]
  },
  {
   "cell_type": "code",
   "execution_count": 24,
   "metadata": {
    "execution": {
     "iopub.execute_input": "2021-06-13T11:54:22.860162Z",
     "iopub.status.busy": "2021-06-13T11:54:22.859493Z",
     "iopub.status.idle": "2021-06-13T11:54:23.428796Z",
     "shell.execute_reply": "2021-06-13T11:54:23.428070Z",
     "shell.execute_reply.started": "2021-06-13T11:51:19.929089Z"
    },
    "papermill": {
     "duration": 0.605677,
     "end_time": "2021-06-13T11:54:23.428932",
     "exception": false,
     "start_time": "2021-06-13T11:54:22.823255",
     "status": "completed"
    },
    "tags": []
   },
   "outputs": [],
   "source": [
    "train = train_features.merge(train_targets_scored, on='sig_id')\n",
    "train = train[train['cp_type']!='ctl_vehicle'].reset_index(drop=True)\n",
    "test = test_features[test_features['cp_type']!='ctl_vehicle'].reset_index(drop=True)\n",
    "\n",
    "target = train[train_targets_scored.columns]"
   ]
  },
  {
   "cell_type": "code",
   "execution_count": 25,
   "metadata": {
    "execution": {
     "iopub.execute_input": "2021-06-13T11:54:23.508235Z",
     "iopub.status.busy": "2021-06-13T11:54:23.507594Z",
     "iopub.status.idle": "2021-06-13T11:54:23.586342Z",
     "shell.execute_reply": "2021-06-13T11:54:23.586826Z",
     "shell.execute_reply.started": "2021-06-13T11:51:20.509702Z"
    },
    "papermill": {
     "duration": 0.127579,
     "end_time": "2021-06-13T11:54:23.586980",
     "exception": false,
     "start_time": "2021-06-13T11:54:23.459401",
     "status": "completed"
    },
    "tags": []
   },
   "outputs": [],
   "source": [
    "train = train.drop('cp_type', axis=1)\n",
    "test = test.drop('cp_type', axis=1)"
   ]
  },
  {
   "cell_type": "code",
   "execution_count": 26,
   "metadata": {
    "execution": {
     "iopub.execute_input": "2021-06-13T11:54:23.666761Z",
     "iopub.status.busy": "2021-06-13T11:54:23.665845Z",
     "iopub.status.idle": "2021-06-13T11:54:23.669451Z",
     "shell.execute_reply": "2021-06-13T11:54:23.668923Z",
     "shell.execute_reply.started": "2021-06-13T11:51:20.609272Z"
    },
    "papermill": {
     "duration": 0.052429,
     "end_time": "2021-06-13T11:54:23.669566",
     "exception": false,
     "start_time": "2021-06-13T11:54:23.617137",
     "status": "completed"
    },
    "tags": []
   },
   "outputs": [],
   "source": [
    "target_cols = target.drop('sig_id', axis=1).columns.values.tolist()"
   ]
  },
  {
   "cell_type": "code",
   "execution_count": 27,
   "metadata": {
    "execution": {
     "iopub.execute_input": "2021-06-13T11:54:23.747806Z",
     "iopub.status.busy": "2021-06-13T11:54:23.746895Z",
     "iopub.status.idle": "2021-06-13T11:54:23.750405Z",
     "shell.execute_reply": "2021-06-13T11:54:23.749850Z",
     "shell.execute_reply.started": "2021-06-13T11:51:20.628620Z"
    },
    "papermill": {
     "duration": 0.051159,
     "end_time": "2021-06-13T11:54:23.750516",
     "exception": false,
     "start_time": "2021-06-13T11:54:23.699357",
     "status": "completed"
    },
    "tags": []
   },
   "outputs": [],
   "source": [
    "target=target[target_cols]"
   ]
  },
  {
   "cell_type": "code",
   "execution_count": 28,
   "metadata": {
    "execution": {
     "iopub.execute_input": "2021-06-13T11:54:23.819501Z",
     "iopub.status.busy": "2021-06-13T11:54:23.817414Z",
     "iopub.status.idle": "2021-06-13T11:54:24.010479Z",
     "shell.execute_reply": "2021-06-13T11:54:24.010978Z",
     "shell.execute_reply.started": "2021-06-13T11:51:20.648216Z"
    },
    "papermill": {
     "duration": 0.23058,
     "end_time": "2021-06-13T11:54:24.011135",
     "exception": false,
     "start_time": "2021-06-13T11:54:23.780555",
     "status": "completed"
    },
    "tags": []
   },
   "outputs": [],
   "source": [
    "train = pd.get_dummies(train, columns=['cp_time','cp_dose'])\n",
    "test_ = pd.get_dummies(test, columns=['cp_time','cp_dose'])"
   ]
  },
  {
   "cell_type": "code",
   "execution_count": 29,
   "metadata": {
    "execution": {
     "iopub.execute_input": "2021-06-13T11:54:24.081961Z",
     "iopub.status.busy": "2021-06-13T11:54:24.080993Z",
     "iopub.status.idle": "2021-06-13T11:54:24.083787Z",
     "shell.execute_reply": "2021-06-13T11:54:24.084237Z",
     "shell.execute_reply.started": "2021-06-13T11:51:20.836790Z"
    },
    "papermill": {
     "duration": 0.042788,
     "end_time": "2021-06-13T11:54:24.084384",
     "exception": false,
     "start_time": "2021-06-13T11:54:24.041596",
     "status": "completed"
    },
    "tags": []
   },
   "outputs": [],
   "source": [
    "feature_cols = [c for c in train.columns if c not in target_cols]\n",
    "feature_cols = [c for c in feature_cols if c not in ['sig_id']]"
   ]
  },
  {
   "cell_type": "code",
   "execution_count": 30,
   "metadata": {
    "execution": {
     "iopub.execute_input": "2021-06-13T11:54:24.153372Z",
     "iopub.status.busy": "2021-06-13T11:54:24.151981Z",
     "iopub.status.idle": "2021-06-13T11:54:24.388894Z",
     "shell.execute_reply": "2021-06-13T11:54:24.388329Z",
     "shell.execute_reply.started": "2021-06-13T11:51:20.847441Z"
    },
    "papermill": {
     "duration": 0.273849,
     "end_time": "2021-06-13T11:54:24.389026",
     "exception": false,
     "start_time": "2021-06-13T11:54:24.115177",
     "status": "completed"
    },
    "tags": []
   },
   "outputs": [],
   "source": [
    "train = train[feature_cols]\n",
    "test = test_[feature_cols]"
   ]
  },
  {
   "cell_type": "code",
   "execution_count": 31,
   "metadata": {
    "execution": {
     "iopub.execute_input": "2021-06-13T11:54:24.456519Z",
     "iopub.status.busy": "2021-06-13T11:54:24.454580Z",
     "iopub.status.idle": "2021-06-13T11:54:24.464187Z",
     "shell.execute_reply": "2021-06-13T11:54:24.464683Z",
     "shell.execute_reply.started": "2021-06-13T11:51:21.103510Z"
    },
    "papermill": {
     "duration": 0.04572,
     "end_time": "2021-06-13T11:54:24.464843",
     "exception": false,
     "start_time": "2021-06-13T11:54:24.419123",
     "status": "completed"
    },
    "tags": []
   },
   "outputs": [],
   "source": [
    "X_test = test.values"
   ]
  },
  {
   "cell_type": "code",
   "execution_count": 32,
   "metadata": {
    "execution": {
     "iopub.execute_input": "2021-06-13T11:54:24.533679Z",
     "iopub.status.busy": "2021-06-13T11:54:24.532665Z",
     "iopub.status.idle": "2021-06-13T11:54:24.536032Z",
     "shell.execute_reply": "2021-06-13T11:54:24.535404Z",
     "shell.execute_reply.started": "2021-06-13T11:51:21.126949Z"
    },
    "papermill": {
     "duration": 0.041047,
     "end_time": "2021-06-13T11:54:24.536143",
     "exception": false,
     "start_time": "2021-06-13T11:54:24.495096",
     "status": "completed"
    },
    "tags": []
   },
   "outputs": [],
   "source": [
    "class LogitsLogLoss(Metric):\n",
    "\n",
    "    def __init__(self):\n",
    "        self._name = \"logits_ll\"\n",
    "        self._maximize = False\n",
    "\n",
    "    def __call__(self, y_true, y_pred):\n",
    "        logits = 1 / (1 + np.exp(-y_pred))\n",
    "        aux = (1 - y_true) * np.log(1 - logits + 5e-5) + y_true * np.log(logits + 5e-5)\n",
    "        return np.mean(-aux)"
   ]
  },
  {
   "cell_type": "code",
   "execution_count": 33,
   "metadata": {
    "execution": {
     "iopub.execute_input": "2021-06-13T11:54:24.605937Z",
     "iopub.status.busy": "2021-06-13T11:54:24.604981Z",
     "iopub.status.idle": "2021-06-13T11:54:24.608338Z",
     "shell.execute_reply": "2021-06-13T11:54:24.607810Z",
     "shell.execute_reply.started": "2021-06-13T11:51:21.137136Z"
    },
    "papermill": {
     "duration": 0.041659,
     "end_time": "2021-06-13T11:54:24.608455",
     "exception": false,
     "start_time": "2021-06-13T11:54:24.566796",
     "status": "completed"
    },
    "tags": []
   },
   "outputs": [],
   "source": [
    "MAX_EPOCH = 200\n",
    "\n",
    "tabnet_params = dict(\n",
    "    n_d = 32,\n",
    "    n_a = 32,\n",
    "    n_steps = 1,\n",
    "    gamma = 1.3,\n",
    "    lambda_sparse = 0,\n",
    "    optimizer_fn = optim.Adam,\n",
    "    optimizer_params = dict(lr = 2e-2, weight_decay = 1e-5),\n",
    "    mask_type = \"entmax\",\n",
    "    scheduler_params = dict(mode = \"min\", patience = 5, min_lr = 1e-5, factor = 0.9),\n",
    "    scheduler_fn = ReduceLROnPlateau,\n",
    "    seed = seed,\n",
    "    verbose = 10\n",
    ")"
   ]
  },
  {
   "cell_type": "code",
   "execution_count": 34,
   "metadata": {
    "execution": {
     "iopub.execute_input": "2021-06-13T11:54:24.682864Z",
     "iopub.status.busy": "2021-06-13T11:54:24.681819Z",
     "iopub.status.idle": "2021-06-13T11:54:56.739568Z",
     "shell.execute_reply": "2021-06-13T11:54:56.738826Z",
     "shell.execute_reply.started": "2021-06-13T11:51:21.156384Z"
    },
    "papermill": {
     "duration": 32.100941,
     "end_time": "2021-06-13T11:54:56.739743",
     "exception": false,
     "start_time": "2021-06-13T11:54:24.638802",
     "status": "completed"
    },
    "tags": []
   },
   "outputs": [
    {
     "name": "stdout",
     "output_type": "stream",
     "text": [
      "Device used : cpu\n",
      "Device used : cpu\n",
      "Device used : cpu\n",
      "Device used : cpu\n",
      "Device used : cpu\n",
      "Device used : cpu\n",
      "Device used : cpu\n",
      "Device used : cpu\n",
      "Device used : cpu\n",
      "Device used : cpu\n",
      "Device used : cpu\n",
      "Device used : cpu\n",
      "Device used : cpu\n",
      "Device used : cpu\n",
      "Device used : cpu\n",
      "Device used : cpu\n",
      "Device used : cpu\n",
      "Device used : cpu\n",
      "Device used : cpu\n",
      "Device used : cpu\n",
      "Device used : cpu\n",
      "Device used : cpu\n",
      "Device used : cpu\n",
      "Device used : cpu\n",
      "Device used : cpu\n",
      "Device used : cpu\n",
      "Device used : cpu\n",
      "Device used : cpu\n",
      "Device used : cpu\n",
      "Device used : cpu\n",
      "Device used : cpu\n",
      "Device used : cpu\n",
      "Device used : cpu\n",
      "Device used : cpu\n",
      "Device used : cpu\n",
      "Device used : cpu\n",
      "Device used : cpu\n",
      "Device used : cpu\n",
      "Device used : cpu\n",
      "Device used : cpu\n",
      "Device used : cpu\n",
      "Device used : cpu\n",
      "Device used : cpu\n",
      "Device used : cpu\n",
      "Device used : cpu\n",
      "Device used : cpu\n",
      "Device used : cpu\n",
      "Device used : cpu\n",
      "Device used : cpu\n",
      "Device used : cpu\n",
      "Device used : cpu\n",
      "Device used : cpu\n",
      "Device used : cpu\n",
      "Device used : cpu\n",
      "Device used : cpu\n",
      "Device used : cpu\n",
      "Device used : cpu\n",
      "Device used : cpu\n",
      "Device used : cpu\n",
      "Device used : cpu\n"
     ]
    }
   ],
   "source": [
    "test_cv_preds = []\n",
    "\n",
    "NB_SPLITS = 10\n",
    "mskf = MultilabelStratifiedKFold(n_splits = NB_SPLITS, random_state = 0, shuffle = True)\n",
    "SEED = [20,21,22]\n",
    "for s in SEED:\n",
    "    tabnet_params['seed'] = s\n",
    "    for fold_nb, (train_idx, val_idx) in enumerate(mskf.split(train, target)):\n",
    "        \n",
    "        model = TabNetRegressor()\n",
    "        ### Predict on test ###\n",
    "        #../input/moa-tabnet-correct\n",
    "        model.load_model(f\"../input/moa-tabnet-correct/TabNet_seed_{s}_fold_{fold_nb+1}.zip\")\n",
    "        preds_test = model.predict(X_test)\n",
    "        test_cv_preds.append(1 / (1 + np.exp(-preds_test)))\n",
    "\n",
    "test_preds_all = np.stack(test_cv_preds)"
   ]
  },
  {
   "cell_type": "code",
   "execution_count": 35,
   "metadata": {
    "execution": {
     "iopub.execute_input": "2021-06-13T11:54:56.855879Z",
     "iopub.status.busy": "2021-06-13T11:54:56.855043Z",
     "iopub.status.idle": "2021-06-13T11:54:59.545624Z",
     "shell.execute_reply": "2021-06-13T11:54:59.546172Z",
     "shell.execute_reply.started": "2021-06-13T11:51:51.606388Z"
    },
    "papermill": {
     "duration": 2.752309,
     "end_time": "2021-06-13T11:54:59.546383",
     "exception": false,
     "start_time": "2021-06-13T11:54:56.794074",
     "status": "completed"
    },
    "tags": []
   },
   "outputs": [
    {
     "data": {
      "text/html": [
       "<div>\n",
       "<style scoped>\n",
       "    .dataframe tbody tr th:only-of-type {\n",
       "        vertical-align: middle;\n",
       "    }\n",
       "\n",
       "    .dataframe tbody tr th {\n",
       "        vertical-align: top;\n",
       "    }\n",
       "\n",
       "    .dataframe thead th {\n",
       "        text-align: right;\n",
       "    }\n",
       "</style>\n",
       "<table border=\"1\" class=\"dataframe\">\n",
       "  <thead>\n",
       "    <tr style=\"text-align: right;\">\n",
       "      <th></th>\n",
       "      <th>sig_id</th>\n",
       "      <th>5-alpha_reductase_inhibitor</th>\n",
       "      <th>11-beta-hsd1_inhibitor</th>\n",
       "      <th>acat_inhibitor</th>\n",
       "      <th>acetylcholine_receptor_agonist</th>\n",
       "      <th>acetylcholine_receptor_antagonist</th>\n",
       "      <th>acetylcholinesterase_inhibitor</th>\n",
       "      <th>adenosine_receptor_agonist</th>\n",
       "      <th>adenosine_receptor_antagonist</th>\n",
       "      <th>adenylyl_cyclase_activator</th>\n",
       "      <th>...</th>\n",
       "      <th>tropomyosin_receptor_kinase_inhibitor</th>\n",
       "      <th>trpv_agonist</th>\n",
       "      <th>trpv_antagonist</th>\n",
       "      <th>tubulin_inhibitor</th>\n",
       "      <th>tyrosine_kinase_inhibitor</th>\n",
       "      <th>ubiquitin_specific_protease_inhibitor</th>\n",
       "      <th>vegfr_inhibitor</th>\n",
       "      <th>vitamin_b</th>\n",
       "      <th>vitamin_d_receptor_agonist</th>\n",
       "      <th>wnt_inhibitor</th>\n",
       "    </tr>\n",
       "  </thead>\n",
       "  <tbody>\n",
       "    <tr>\n",
       "      <th>0</th>\n",
       "      <td>id_0004d9e33</td>\n",
       "      <td>0.001001</td>\n",
       "      <td>0.001180</td>\n",
       "      <td>0.002022</td>\n",
       "      <td>0.019151</td>\n",
       "      <td>0.022228</td>\n",
       "      <td>0.005246</td>\n",
       "      <td>0.002998</td>\n",
       "      <td>0.005494</td>\n",
       "      <td>0.000341</td>\n",
       "      <td>...</td>\n",
       "      <td>0.000791</td>\n",
       "      <td>0.001165</td>\n",
       "      <td>0.003596</td>\n",
       "      <td>0.000863</td>\n",
       "      <td>0.000768</td>\n",
       "      <td>0.000551</td>\n",
       "      <td>0.000530</td>\n",
       "      <td>0.002032</td>\n",
       "      <td>0.002621</td>\n",
       "      <td>0.001774</td>\n",
       "    </tr>\n",
       "    <tr>\n",
       "      <th>1</th>\n",
       "      <td>id_001897cda</td>\n",
       "      <td>0.000553</td>\n",
       "      <td>0.000970</td>\n",
       "      <td>0.002050</td>\n",
       "      <td>0.003869</td>\n",
       "      <td>0.002154</td>\n",
       "      <td>0.002155</td>\n",
       "      <td>0.002373</td>\n",
       "      <td>0.010095</td>\n",
       "      <td>0.001831</td>\n",
       "      <td>...</td>\n",
       "      <td>0.000823</td>\n",
       "      <td>0.001038</td>\n",
       "      <td>0.004116</td>\n",
       "      <td>0.000436</td>\n",
       "      <td>0.003736</td>\n",
       "      <td>0.000538</td>\n",
       "      <td>0.003671</td>\n",
       "      <td>0.001173</td>\n",
       "      <td>0.007768</td>\n",
       "      <td>0.003193</td>\n",
       "    </tr>\n",
       "    <tr>\n",
       "      <th>2</th>\n",
       "      <td>id_002429b5b</td>\n",
       "      <td>0.000000</td>\n",
       "      <td>0.000000</td>\n",
       "      <td>0.000000</td>\n",
       "      <td>0.000000</td>\n",
       "      <td>0.000000</td>\n",
       "      <td>0.000000</td>\n",
       "      <td>0.000000</td>\n",
       "      <td>0.000000</td>\n",
       "      <td>0.000000</td>\n",
       "      <td>...</td>\n",
       "      <td>0.000000</td>\n",
       "      <td>0.000000</td>\n",
       "      <td>0.000000</td>\n",
       "      <td>0.000000</td>\n",
       "      <td>0.000000</td>\n",
       "      <td>0.000000</td>\n",
       "      <td>0.000000</td>\n",
       "      <td>0.000000</td>\n",
       "      <td>0.000000</td>\n",
       "      <td>0.000000</td>\n",
       "    </tr>\n",
       "    <tr>\n",
       "      <th>3</th>\n",
       "      <td>id_00276f245</td>\n",
       "      <td>0.000941</td>\n",
       "      <td>0.001069</td>\n",
       "      <td>0.001757</td>\n",
       "      <td>0.009520</td>\n",
       "      <td>0.014225</td>\n",
       "      <td>0.004072</td>\n",
       "      <td>0.002586</td>\n",
       "      <td>0.004707</td>\n",
       "      <td>0.000272</td>\n",
       "      <td>...</td>\n",
       "      <td>0.000677</td>\n",
       "      <td>0.001883</td>\n",
       "      <td>0.002904</td>\n",
       "      <td>0.014936</td>\n",
       "      <td>0.004340</td>\n",
       "      <td>0.000663</td>\n",
       "      <td>0.001643</td>\n",
       "      <td>0.001733</td>\n",
       "      <td>0.000565</td>\n",
       "      <td>0.001571</td>\n",
       "    </tr>\n",
       "    <tr>\n",
       "      <th>4</th>\n",
       "      <td>id_0027f1083</td>\n",
       "      <td>0.001404</td>\n",
       "      <td>0.001343</td>\n",
       "      <td>0.001599</td>\n",
       "      <td>0.015770</td>\n",
       "      <td>0.020870</td>\n",
       "      <td>0.004714</td>\n",
       "      <td>0.003634</td>\n",
       "      <td>0.003071</td>\n",
       "      <td>0.000482</td>\n",
       "      <td>...</td>\n",
       "      <td>0.000753</td>\n",
       "      <td>0.000820</td>\n",
       "      <td>0.002950</td>\n",
       "      <td>0.001631</td>\n",
       "      <td>0.001472</td>\n",
       "      <td>0.000680</td>\n",
       "      <td>0.000892</td>\n",
       "      <td>0.001871</td>\n",
       "      <td>0.000559</td>\n",
       "      <td>0.001550</td>\n",
       "    </tr>\n",
       "  </tbody>\n",
       "</table>\n",
       "<p>5 rows × 207 columns</p>\n",
       "</div>"
      ],
      "text/plain": [
       "         sig_id  5-alpha_reductase_inhibitor  11-beta-hsd1_inhibitor  \\\n",
       "0  id_0004d9e33                     0.001001                0.001180   \n",
       "1  id_001897cda                     0.000553                0.000970   \n",
       "2  id_002429b5b                     0.000000                0.000000   \n",
       "3  id_00276f245                     0.000941                0.001069   \n",
       "4  id_0027f1083                     0.001404                0.001343   \n",
       "\n",
       "   acat_inhibitor  acetylcholine_receptor_agonist  \\\n",
       "0        0.002022                        0.019151   \n",
       "1        0.002050                        0.003869   \n",
       "2        0.000000                        0.000000   \n",
       "3        0.001757                        0.009520   \n",
       "4        0.001599                        0.015770   \n",
       "\n",
       "   acetylcholine_receptor_antagonist  acetylcholinesterase_inhibitor  \\\n",
       "0                           0.022228                        0.005246   \n",
       "1                           0.002154                        0.002155   \n",
       "2                           0.000000                        0.000000   \n",
       "3                           0.014225                        0.004072   \n",
       "4                           0.020870                        0.004714   \n",
       "\n",
       "   adenosine_receptor_agonist  adenosine_receptor_antagonist  \\\n",
       "0                    0.002998                       0.005494   \n",
       "1                    0.002373                       0.010095   \n",
       "2                    0.000000                       0.000000   \n",
       "3                    0.002586                       0.004707   \n",
       "4                    0.003634                       0.003071   \n",
       "\n",
       "   adenylyl_cyclase_activator  ...  tropomyosin_receptor_kinase_inhibitor  \\\n",
       "0                    0.000341  ...                               0.000791   \n",
       "1                    0.001831  ...                               0.000823   \n",
       "2                    0.000000  ...                               0.000000   \n",
       "3                    0.000272  ...                               0.000677   \n",
       "4                    0.000482  ...                               0.000753   \n",
       "\n",
       "   trpv_agonist  trpv_antagonist  tubulin_inhibitor  \\\n",
       "0      0.001165         0.003596           0.000863   \n",
       "1      0.001038         0.004116           0.000436   \n",
       "2      0.000000         0.000000           0.000000   \n",
       "3      0.001883         0.002904           0.014936   \n",
       "4      0.000820         0.002950           0.001631   \n",
       "\n",
       "   tyrosine_kinase_inhibitor  ubiquitin_specific_protease_inhibitor  \\\n",
       "0                   0.000768                               0.000551   \n",
       "1                   0.003736                               0.000538   \n",
       "2                   0.000000                               0.000000   \n",
       "3                   0.004340                               0.000663   \n",
       "4                   0.001472                               0.000680   \n",
       "\n",
       "   vegfr_inhibitor  vitamin_b  vitamin_d_receptor_agonist  wnt_inhibitor  \n",
       "0         0.000530   0.002032                    0.002621       0.001774  \n",
       "1         0.003671   0.001173                    0.007768       0.003193  \n",
       "2         0.000000   0.000000                    0.000000       0.000000  \n",
       "3         0.001643   0.001733                    0.000565       0.001571  \n",
       "4         0.000892   0.001871                    0.000559       0.001550  \n",
       "\n",
       "[5 rows x 207 columns]"
      ]
     },
     "execution_count": 35,
     "metadata": {},
     "output_type": "execute_result"
    }
   ],
   "source": [
    "all_feat = [col for col in df.columns if col not in [\"sig_id\"]]\n",
    "# To obtain the same lenght of test_preds_all and submission\n",
    "test = pd.read_csv(\"../input/lish-moa/test_features.csv\")\n",
    "sig_id = test[test[\"cp_type\"] != \"ctl_vehicle\"].sig_id.reset_index(drop = True)\n",
    "tmp = pd.DataFrame(test_preds_all.mean(axis = 0), columns = all_feat)\n",
    "tmp[\"sig_id\"] = sig_id\n",
    "\n",
    "submission = pd.merge(test[[\"sig_id\"]], tmp, on = \"sig_id\", how = \"left\")\n",
    "submission.fillna(0, inplace = True)\n",
    "submission.to_csv(\"submission.csv\", index = None)\n",
    "submission.head()"
   ]
  }
 ],
 "metadata": {
  "kernelspec": {
   "display_name": "Python 3",
   "language": "python",
   "name": "python3"
  },
  "language_info": {
   "codemirror_mode": {
    "name": "ipython",
    "version": 3
   },
   "file_extension": ".py",
   "mimetype": "text/x-python",
   "name": "python",
   "nbconvert_exporter": "python",
   "pygments_lexer": "ipython3",
   "version": "3.7.6"
  },
  "papermill": {
   "duration": 86.297287,
   "end_time": "2021-06-13T11:54:59.709824",
   "environment_variables": {},
   "exception": null,
   "input_path": "__notebook__.ipynb",
   "output_path": "__notebook__.ipynb",
   "parameters": {},
   "start_time": "2021-06-13T11:53:33.412537",
   "version": "2.1.0"
  }
 },
 "nbformat": 4,
 "nbformat_minor": 4
}
